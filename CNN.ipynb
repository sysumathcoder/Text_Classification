{
 "cells": [
  {
   "cell_type": "code",
   "execution_count": 1,
   "metadata": {},
   "outputs": [],
   "source": [
    "import torch\n",
    "from torchtext import data\n",
    "from torchtext import datasets\n",
    "import random, re"
   ]
  },
  {
   "cell_type": "code",
   "execution_count": 2,
   "metadata": {},
   "outputs": [],
   "source": [
    "# clean comment_sentence, we can consider store the clean data instead\n",
    "def clean_data(string):\n",
    "    \"\"\"\n",
    "     Argument:\n",
    "             string: the string to be cleaned\n",
    "    \"\"\"\n",
    "    string = str(string)\n",
    "    string = re.sub(r\"[^A-Za-z0-9(),!?\\'\\`]\", \" \", string)     \n",
    "    string = re.sub(r\"\\'s\", \" \\'s\", string) \n",
    "    string = re.sub(r\"\\'ve\", \" \\'ve\", string) \n",
    "    string = re.sub(r\"n\\'t\", \" n\\'t\", string) \n",
    "    string = re.sub(r\"\\'re\", \" \\'re\", string) \n",
    "    string = re.sub(r\"\\'d\", \" \\'d\", string) \n",
    "    string = re.sub(r\"\\'ll\", \" \\'ll\", string) \n",
    "    string = re.sub(r\"\\'m\", \" \\'m\", string)\n",
    "    string = re.sub(r\",\", \" , \", string) \n",
    "    string = re.sub(r\"!\", \" ! \", string) \n",
    "    string = re.sub(r\"\\(\", \" \\( \", string) \n",
    "    string = re.sub(r\"\\)\", \" \\) \", string) \n",
    "    string = re.sub(r\"\\?\", \" \\? \", string) \n",
    "    string = re.sub(r\"\\s{2,}\", \" \", string)    \n",
    "    return string.strip().lower()"
   ]
  },
  {
   "cell_type": "code",
   "execution_count": 3,
   "metadata": {},
   "outputs": [],
   "source": [
    "# Load a sample csv file test.csv, and use class TabularDataset to generate a torchtext.data.Dataset\n",
    "file = \"E:\\Text_Classification\\data\\Yelp\\yelp_review_full_csv\"\n",
    "TEXT = data.Field(tokenize='spacy',preprocessing=clean_data)\n",
    "LABEL = data.LabelField(dtype=torch.int8)\n",
    "tv_dataFields = [(\"label\", LABEL), (\"comment_text\", TEXT)]\n",
    "trn = data.TabularDataset.splits(path=file, train='test.csv',\\\n",
    "                                     format='csv',\\\n",
    "                                     skip_header=False, fields=tv_dataFields)"
   ]
  },
  {
   "cell_type": "code",
   "execution_count": 4,
   "metadata": {},
   "outputs": [],
   "source": [
    "# Split the dataset into train and valid part, no need to do it manually\n",
    "trn, val = trn[0].split(random_state=random.seed(1234))"
   ]
  },
  {
   "cell_type": "code",
   "execution_count": 5,
   "metadata": {},
   "outputs": [
    {
     "data": {
      "text/plain": [
       "{'label': '3',\n",
       " 'comment_text': \"'they' , 'were' , 'solid' , ' ' , 'the' , 'po' , 'boy' , 'was' , 'good' , ' '\"}"
      ]
     },
     "execution_count": 5,
     "metadata": {},
     "output_type": "execute_result"
    }
   ],
   "source": [
    "# See the format of our dataset\n",
    "val[0].__dict__"
   ]
  },
  {
   "cell_type": "code",
   "execution_count": null,
   "metadata": {},
   "outputs": [],
   "source": [
    "# TODO: word2vec, load glove\n",
    "TEXT.build_vocab(train_data, max_size=25000, vectors=\"glove.6B.100d\")"
   ]
  }
 ],
 "metadata": {
  "kernelspec": {
   "display_name": "Python 3",
   "language": "python",
   "name": "python3"
  },
  "language_info": {
   "codemirror_mode": {
    "name": "ipython",
    "version": 3
   },
   "file_extension": ".py",
   "mimetype": "text/x-python",
   "name": "python",
   "nbconvert_exporter": "python",
   "pygments_lexer": "ipython3",
   "version": "3.7.1"
  }
 },
 "nbformat": 4,
 "nbformat_minor": 2
}
